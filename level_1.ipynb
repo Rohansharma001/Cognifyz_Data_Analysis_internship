{
 "cells": [
  {
   "cell_type": "markdown",
   "id": "20bd4df5-cc64-4e43-ab94-fae403e28255",
   "metadata": {},
   "source": [
    "<!-- # Task 1: Top Cuisines\n",
    "1-Determine the top three most common cuisines in the dataset.\n",
    "2-Calculate the percentage of restaurants that serve each of the top cuisines.  \n",
    "\n",
    "Task 2:  City Analysis\n",
    "1-Identify the city with the highest number of restaurants in the dataset.\n",
    "2-Calculate the average rating for restaurants in each city.\n",
    "3-Determine the city with the highest average rating.\n",
    "\n",
    "\n",
    "Task-3: Price Range Distribution\n",
    "1-Create a histogram or bar chart to visualize the distribution of price ranges among the restaurants.\n",
    "2-Calculate the percentage of restaurants in each price range category.\n",
    "\n",
    "\n",
    "Task-4: Online Delivery\n",
    "1-Determine the percentage of restaurants that offer online delivery.\n",
    "2-Compare the average ratings of restaurants with and without online delivery.\n",
    "\n",
    "\n",
    "Task-5: Restaurant Ratings\n",
    "1-Analyze the distribution of aggregate ratings and determine the most common rating range.\n",
    "2-Calculate the average number of votes received by restaurants.\n",
    " -->"
   ]
  },
  {
   "cell_type": "code",
   "execution_count": 3,
   "id": "74cbccc0-c5aa-47de-968f-3c9f42222e85",
   "metadata": {},
   "outputs": [],
   "source": [
    "import pandas as pd\n",
    "import numpy as np\n",
    "import matplotlib.pyplot as plt\n",
    "import plotly.express as px\n",
    "import seaborn as sns"
   ]
  },
  {
   "cell_type": "code",
   "execution_count": 81,
   "id": "2cc4aaa9-2fa2-4638-98e4-e2f01aa0d857",
   "metadata": {},
   "outputs": [],
   "source": [
    "# Load the dataset\n",
    "dataset=pd.read_csv('Dataset .csv')"
   ]
  },
  {
   "cell_type": "code",
   "execution_count": 5,
   "id": "27e812e5-4465-46f2-981b-861ece6f533e",
   "metadata": {},
   "outputs": [
    {
     "data": {
      "text/plain": [
       "(4411, 21)"
      ]
     },
     "execution_count": 5,
     "metadata": {},
     "output_type": "execute_result"
    }
   ],
   "source": [
    "# identify the number of rows and columns\n",
    "dataset.shape"
   ]
  },
  {
   "cell_type": "code",
   "execution_count": 6,
   "id": "e878df04-2bed-47c5-8c53-d69e3c158a46",
   "metadata": {},
   "outputs": [
    {
     "data": {
      "text/plain": [
       "Index(['Restaurant ID', 'Restaurant Name', 'Country Code', 'City', 'Address',\n",
       "       'Locality', 'Locality Verbose', 'Longitude', 'Latitude', 'Cuisines',\n",
       "       'Average Cost for two', 'Currency', 'Has Table booking',\n",
       "       'Has Online delivery', 'Is delivering now', 'Switch to order menu',\n",
       "       'Price range', 'Aggregate rating', 'Rating color', 'Rating text',\n",
       "       'Votes'],\n",
       "      dtype='object')"
      ]
     },
     "execution_count": 6,
     "metadata": {},
     "output_type": "execute_result"
    }
   ],
   "source": [
    "# to check the columns name\n",
    "dataset.columns"
   ]
  },
  {
   "cell_type": "code",
   "execution_count": 82,
   "id": "2a26cf99-a9f5-4609-abe1-fcaeb39e6264",
   "metadata": {},
   "outputs": [
    {
     "data": {
      "text/html": [
       "<div>\n",
       "<style scoped>\n",
       "    .dataframe tbody tr th:only-of-type {\n",
       "        vertical-align: middle;\n",
       "    }\n",
       "\n",
       "    .dataframe tbody tr th {\n",
       "        vertical-align: top;\n",
       "    }\n",
       "\n",
       "    .dataframe thead th {\n",
       "        text-align: right;\n",
       "    }\n",
       "</style>\n",
       "<table border=\"1\" class=\"dataframe\">\n",
       "  <thead>\n",
       "    <tr style=\"text-align: right;\">\n",
       "      <th></th>\n",
       "      <th>Restaurant ID</th>\n",
       "      <th>Restaurant Name</th>\n",
       "      <th>Country Code</th>\n",
       "      <th>City</th>\n",
       "      <th>Address</th>\n",
       "      <th>Locality</th>\n",
       "      <th>Locality Verbose</th>\n",
       "      <th>Longitude</th>\n",
       "      <th>Latitude</th>\n",
       "      <th>Cuisines</th>\n",
       "      <th>...</th>\n",
       "      <th>Currency</th>\n",
       "      <th>Has Table booking</th>\n",
       "      <th>Has Online delivery</th>\n",
       "      <th>Is delivering now</th>\n",
       "      <th>Switch to order menu</th>\n",
       "      <th>Price range</th>\n",
       "      <th>Aggregate rating</th>\n",
       "      <th>Rating color</th>\n",
       "      <th>Rating text</th>\n",
       "      <th>Votes</th>\n",
       "    </tr>\n",
       "  </thead>\n",
       "  <tbody>\n",
       "    <tr>\n",
       "      <th>0</th>\n",
       "      <td>6317637</td>\n",
       "      <td>Le Petit Souffle</td>\n",
       "      <td>162</td>\n",
       "      <td>Makati City</td>\n",
       "      <td>Third Floor, Century City Mall, Kalayaan Avenu...</td>\n",
       "      <td>Century City Mall, Poblacion, Makati City</td>\n",
       "      <td>Century City Mall, Poblacion, Makati City, Mak...</td>\n",
       "      <td>121.027535</td>\n",
       "      <td>14.565443</td>\n",
       "      <td>French, Japanese, Desserts</td>\n",
       "      <td>...</td>\n",
       "      <td>Botswana Pula(P)</td>\n",
       "      <td>Yes</td>\n",
       "      <td>No</td>\n",
       "      <td>No</td>\n",
       "      <td>No</td>\n",
       "      <td>3.0</td>\n",
       "      <td>4.8</td>\n",
       "      <td>Dark Green</td>\n",
       "      <td>Excellent</td>\n",
       "      <td>314.0</td>\n",
       "    </tr>\n",
       "    <tr>\n",
       "      <th>1</th>\n",
       "      <td>6304287</td>\n",
       "      <td>Izakaya Kikufuji</td>\n",
       "      <td>162</td>\n",
       "      <td>Makati City</td>\n",
       "      <td>Little Tokyo, 2277 Chino Roces Avenue, Legaspi...</td>\n",
       "      <td>Little Tokyo, Legaspi Village, Makati City</td>\n",
       "      <td>Little Tokyo, Legaspi Village, Makati City, Ma...</td>\n",
       "      <td>121.014101</td>\n",
       "      <td>14.553708</td>\n",
       "      <td>Japanese</td>\n",
       "      <td>...</td>\n",
       "      <td>Botswana Pula(P)</td>\n",
       "      <td>Yes</td>\n",
       "      <td>No</td>\n",
       "      <td>No</td>\n",
       "      <td>No</td>\n",
       "      <td>3.0</td>\n",
       "      <td>4.5</td>\n",
       "      <td>Dark Green</td>\n",
       "      <td>Excellent</td>\n",
       "      <td>591.0</td>\n",
       "    </tr>\n",
       "    <tr>\n",
       "      <th>2</th>\n",
       "      <td>6300002</td>\n",
       "      <td>Heat - Edsa Shangri-La</td>\n",
       "      <td>162</td>\n",
       "      <td>Mandaluyong City</td>\n",
       "      <td>Edsa Shangri-La, 1 Garden Way, Ortigas, Mandal...</td>\n",
       "      <td>Edsa Shangri-La, Ortigas, Mandaluyong City</td>\n",
       "      <td>Edsa Shangri-La, Ortigas, Mandaluyong City, Ma...</td>\n",
       "      <td>121.056831</td>\n",
       "      <td>14.581404</td>\n",
       "      <td>Seafood, Asian, Filipino, Indian</td>\n",
       "      <td>...</td>\n",
       "      <td>Botswana Pula(P)</td>\n",
       "      <td>Yes</td>\n",
       "      <td>No</td>\n",
       "      <td>No</td>\n",
       "      <td>No</td>\n",
       "      <td>4.0</td>\n",
       "      <td>4.4</td>\n",
       "      <td>Green</td>\n",
       "      <td>Very Good</td>\n",
       "      <td>270.0</td>\n",
       "    </tr>\n",
       "    <tr>\n",
       "      <th>3</th>\n",
       "      <td>6318506</td>\n",
       "      <td>Ooma</td>\n",
       "      <td>162</td>\n",
       "      <td>Mandaluyong City</td>\n",
       "      <td>Third Floor, Mega Fashion Hall, SM Megamall, O...</td>\n",
       "      <td>SM Megamall, Ortigas, Mandaluyong City</td>\n",
       "      <td>SM Megamall, Ortigas, Mandaluyong City, Mandal...</td>\n",
       "      <td>121.056475</td>\n",
       "      <td>14.585318</td>\n",
       "      <td>Japanese, Sushi</td>\n",
       "      <td>...</td>\n",
       "      <td>Botswana Pula(P)</td>\n",
       "      <td>No</td>\n",
       "      <td>No</td>\n",
       "      <td>No</td>\n",
       "      <td>No</td>\n",
       "      <td>4.0</td>\n",
       "      <td>4.9</td>\n",
       "      <td>Dark Green</td>\n",
       "      <td>Excellent</td>\n",
       "      <td>365.0</td>\n",
       "    </tr>\n",
       "    <tr>\n",
       "      <th>4</th>\n",
       "      <td>6314302</td>\n",
       "      <td>Sambo Kojin</td>\n",
       "      <td>162</td>\n",
       "      <td>Mandaluyong City</td>\n",
       "      <td>Third Floor, Mega Atrium, SM Megamall, Ortigas...</td>\n",
       "      <td>SM Megamall, Ortigas, Mandaluyong City</td>\n",
       "      <td>SM Megamall, Ortigas, Mandaluyong City, Mandal...</td>\n",
       "      <td>121.057508</td>\n",
       "      <td>14.584450</td>\n",
       "      <td>Japanese, Korean</td>\n",
       "      <td>...</td>\n",
       "      <td>Botswana Pula(P)</td>\n",
       "      <td>Yes</td>\n",
       "      <td>No</td>\n",
       "      <td>No</td>\n",
       "      <td>No</td>\n",
       "      <td>4.0</td>\n",
       "      <td>4.8</td>\n",
       "      <td>Dark Green</td>\n",
       "      <td>Excellent</td>\n",
       "      <td>229.0</td>\n",
       "    </tr>\n",
       "  </tbody>\n",
       "</table>\n",
       "<p>5 rows × 21 columns</p>\n",
       "</div>"
      ],
      "text/plain": [
       "   Restaurant ID         Restaurant Name  Country Code              City  \\\n",
       "0        6317637        Le Petit Souffle           162       Makati City   \n",
       "1        6304287        Izakaya Kikufuji           162       Makati City   \n",
       "2        6300002  Heat - Edsa Shangri-La           162  Mandaluyong City   \n",
       "3        6318506                    Ooma           162  Mandaluyong City   \n",
       "4        6314302             Sambo Kojin           162  Mandaluyong City   \n",
       "\n",
       "                                             Address  \\\n",
       "0  Third Floor, Century City Mall, Kalayaan Avenu...   \n",
       "1  Little Tokyo, 2277 Chino Roces Avenue, Legaspi...   \n",
       "2  Edsa Shangri-La, 1 Garden Way, Ortigas, Mandal...   \n",
       "3  Third Floor, Mega Fashion Hall, SM Megamall, O...   \n",
       "4  Third Floor, Mega Atrium, SM Megamall, Ortigas...   \n",
       "\n",
       "                                     Locality  \\\n",
       "0   Century City Mall, Poblacion, Makati City   \n",
       "1  Little Tokyo, Legaspi Village, Makati City   \n",
       "2  Edsa Shangri-La, Ortigas, Mandaluyong City   \n",
       "3      SM Megamall, Ortigas, Mandaluyong City   \n",
       "4      SM Megamall, Ortigas, Mandaluyong City   \n",
       "\n",
       "                                    Locality Verbose   Longitude   Latitude  \\\n",
       "0  Century City Mall, Poblacion, Makati City, Mak...  121.027535  14.565443   \n",
       "1  Little Tokyo, Legaspi Village, Makati City, Ma...  121.014101  14.553708   \n",
       "2  Edsa Shangri-La, Ortigas, Mandaluyong City, Ma...  121.056831  14.581404   \n",
       "3  SM Megamall, Ortigas, Mandaluyong City, Mandal...  121.056475  14.585318   \n",
       "4  SM Megamall, Ortigas, Mandaluyong City, Mandal...  121.057508  14.584450   \n",
       "\n",
       "                           Cuisines  ...          Currency Has Table booking  \\\n",
       "0        French, Japanese, Desserts  ...  Botswana Pula(P)               Yes   \n",
       "1                          Japanese  ...  Botswana Pula(P)               Yes   \n",
       "2  Seafood, Asian, Filipino, Indian  ...  Botswana Pula(P)               Yes   \n",
       "3                   Japanese, Sushi  ...  Botswana Pula(P)                No   \n",
       "4                  Japanese, Korean  ...  Botswana Pula(P)               Yes   \n",
       "\n",
       "  Has Online delivery Is delivering now Switch to order menu Price range  \\\n",
       "0                  No                No                   No         3.0   \n",
       "1                  No                No                   No         3.0   \n",
       "2                  No                No                   No         4.0   \n",
       "3                  No                No                   No         4.0   \n",
       "4                  No                No                   No         4.0   \n",
       "\n",
       "   Aggregate rating  Rating color Rating text  Votes  \n",
       "0               4.8    Dark Green   Excellent  314.0  \n",
       "1               4.5    Dark Green   Excellent  591.0  \n",
       "2               4.4         Green   Very Good  270.0  \n",
       "3               4.9    Dark Green   Excellent  365.0  \n",
       "4               4.8    Dark Green   Excellent  229.0  \n",
       "\n",
       "[5 rows x 21 columns]"
      ]
     },
     "execution_count": 82,
     "metadata": {},
     "output_type": "execute_result"
    }
   ],
   "source": [
    "# to show top 5 rows\n",
    "dataset.head()"
   ]
  },
  {
   "cell_type": "markdown",
   "id": "b17b921f-fefa-4530-a628-c77552452894",
   "metadata": {},
   "source": [
    "#### Task 1 Top Cuisines"
   ]
  },
  {
   "cell_type": "code",
   "execution_count": 10,
   "id": "fa0ca81d-202a-48cf-866d-05f221b7e16b",
   "metadata": {},
   "outputs": [
    {
     "data": {
      "image/png": "[encoded data removed]",
      "text/plain": [
       "<Figure size 800x500 with 1 Axes>"
      ]
     },
     "metadata": {},
     "output_type": "display_data"
    }
   ],
   "source": [
    "#Task 1\n",
    "\n",
    "#1-Determine the top three most common cuisines in the dataset.\n",
    "\n",
    "cuisines_dataset=dataset['Cuisines'].str.split(',').explode().value_counts().head(3)\n",
    "top_3_cuisines_dataset=cuisines_dataset.sort_values(ascending=False)\n",
    "\n",
    "# plot the graph by using \n",
    "fig,Ax=plt.subplots(figsize=(8,5))\n",
    "c=['b','y','g']\n",
    "plt.title('Top 3 Most Common Cuisines',fontsize=25)\n",
    "sns.barplot(x=cuisines_dataset.index,y=top_3_cuisines_dataset.values,ax=Ax,alpha=1,edgecolor=c,linewidth=5)        #b=blue\n",
    "plt.show()\n",
    "\n",
    "\n",
    "# done"
   ]
  },
  {
   "cell_type": "raw",
   "id": "ef5d1217-d96c-4961-b245-aa0f86e60e34",
   "metadata": {},
   "source": [
    "1-Identify the city with the highest number of restaurants in the dataset.\n",
    "2-Calculate the average rating for restaurants in each city.\n",
    "3-Determine the city with the highest average rating."
   ]
  },
  {
   "cell_type": "markdown",
   "id": "b5405ec2-50fa-4de4-afe5-15b38ce1fe17",
   "metadata": {},
   "source": [
    "##### 1-Identify the city with the highest number of restaurants in the dataset.\n"
   ]
  },
  {
   "cell_type": "code",
   "execution_count": 46,
   "id": "9610c788-0f28-4970-bff5-ec09cc401293",
   "metadata": {},
   "outputs": [
    {
     "data": {
      "text/plain": [
       "City\n",
       "New Delhi    1851\n",
       "Name: count, dtype: int64"
      ]
     },
     "execution_count": 46,
     "metadata": {},
     "output_type": "execute_result"
    }
   ],
   "source": [
    "# highest number of restaurants\n",
    "highest_number_o_dataset_restaurants=dataset['City'].value_counts().head(1)\n",
    "highest_number_o_dataset_restaurants"
   ]
  },
  {
   "cell_type": "markdown",
   "id": "59762092-594e-476f-b218-ac03ca9a2cb6",
   "metadata": {},
   "source": [
    "##### 2-Calculate the percentage of restaurants that serve each of the top cuisines.  "
   ]
  },
  {
   "cell_type": "code",
   "execution_count": 47,
   "id": "15547a08-e974-43f8-b958-9ca1bd24cfc0",
   "metadata": {},
   "outputs": [
    {
     "data": {
      "text/html": [
       "<div>\n",
       "<style scoped>\n",
       "    .dataframe tbody tr th:only-of-type {\n",
       "        vertical-align: middle;\n",
       "    }\n",
       "\n",
       "    .dataframe tbody tr th {\n",
       "        vertical-align: top;\n",
       "    }\n",
       "\n",
       "    .dataframe thead th {\n",
       "        text-align: right;\n",
       "    }\n",
       "</style>\n",
       "<table border=\"1\" class=\"dataframe\">\n",
       "  <thead>\n",
       "    <tr style=\"text-align: right;\">\n",
       "      <th></th>\n",
       "      <th>Percantage</th>\n",
       "    </tr>\n",
       "    <tr>\n",
       "      <th>Cuisines</th>\n",
       "      <th></th>\n",
       "    </tr>\n",
       "  </thead>\n",
       "  <tbody>\n",
       "    <tr>\n",
       "      <th>North Indian</th>\n",
       "      <td>28.973022</td>\n",
       "    </tr>\n",
       "    <tr>\n",
       "      <th>Chinese</th>\n",
       "      <td>18.861936</td>\n",
       "    </tr>\n",
       "    <tr>\n",
       "      <th>Fast Food</th>\n",
       "      <td>12.151440</td>\n",
       "    </tr>\n",
       "  </tbody>\n",
       "</table>\n",
       "</div>"
      ],
      "text/plain": [
       "              Percantage\n",
       "Cuisines                \n",
       "North Indian   28.973022\n",
       " Chinese       18.861936\n",
       " Fast Food     12.151440"
      ]
     },
     "execution_count": 47,
     "metadata": {},
     "output_type": "execute_result"
    }
   ],
   "source": [
    "highest_restaurants=len(dataset)\n",
    "percenatge_cuisines=((top_3_cuisines_dataset/highest_restaurants) *100)\n",
    "percenatge_cuisines=percenatge_cuisines.to_frame()\n",
    "\n",
    "# rename the column name count to Percentage\n",
    "percenatge_cuisines = percenatge_cuisines.rename(columns={'count': 'Percantage'})\n",
    "percenatge_cuisines"
   ]
  },
  {
   "cell_type": "markdown",
   "id": "d8abe2a2-794a-4710-a40c-4dc7218974c6",
   "metadata": {},
   "source": [
    "##### 3-Determine the city with the highest average rating.\n"
   ]
  },
  {
   "cell_type": "code",
   "execution_count": 57,
   "id": "a9785250-53b2-48c3-aa8b-17e8293f0ebb",
   "metadata": {},
   "outputs": [
    {
     "data": {
      "text/plain": [
       "City\n",
       "Abu Dhabi    4.3\n",
       "Name: Aggregate rating, dtype: float64"
      ]
     },
     "execution_count": 57,
     "metadata": {},
     "output_type": "execute_result"
    }
   ],
   "source": [
    "highest_avg_ratings=dataset.groupby('City')['Aggregate rating'].mean().head(1)\n",
    "highest_avg_ratings"
   ]
  },
  {
   "cell_type": "markdown",
   "id": "f4f7bcba-f671-40ef-9f4e-1a2c33a87f71",
   "metadata": {
    "jp-MarkdownHeadingCollapsed": true
   },
   "source": [
    "#### Task 2:  City Analysis"
   ]
  },
  {
   "cell_type": "markdown",
   "id": "4bb8179d-65cf-4431-89cc-6765459ff5ee",
   "metadata": {},
   "source": [
    "##### 2-Calculate the average rating for restaurants in each city."
   ]
  },
  {
   "cell_type": "code",
   "execution_count": 36,
   "id": "161ca03d-59ce-4fed-8493-e115efbd1e0c",
   "metadata": {},
   "outputs": [
    {
     "data": {
      "text/html": [
       "<div>\n",
       "<style scoped>\n",
       "    .dataframe tbody tr th:only-of-type {\n",
       "        vertical-align: middle;\n",
       "    }\n",
       "\n",
       "    .dataframe tbody tr th {\n",
       "        vertical-align: top;\n",
       "    }\n",
       "\n",
       "    .dataframe thead th {\n",
       "        text-align: right;\n",
       "    }\n",
       "</style>\n",
       "<table border=\"1\" class=\"dataframe\">\n",
       "  <thead>\n",
       "    <tr style=\"text-align: right;\">\n",
       "      <th></th>\n",
       "      <th>City</th>\n",
       "      <th>Restaurant Name</th>\n",
       "      <th>Average Rating</th>\n",
       "    </tr>\n",
       "  </thead>\n",
       "  <tbody>\n",
       "    <tr>\n",
       "      <th>0</th>\n",
       "      <td>Dalton</td>\n",
       "      <td>Oakwood Cafe</td>\n",
       "      <td>4.9</td>\n",
       "    </tr>\n",
       "    <tr>\n",
       "      <th>1</th>\n",
       "      <td>Davenport</td>\n",
       "      <td>Tantra Asian Bistro</td>\n",
       "      <td>4.9</td>\n",
       "    </tr>\n",
       "    <tr>\n",
       "      <th>2</th>\n",
       "      <td>Agra</td>\n",
       "      <td>Sheroes Hangout</td>\n",
       "      <td>4.9</td>\n",
       "    </tr>\n",
       "    <tr>\n",
       "      <th>3</th>\n",
       "      <td>Pasig City</td>\n",
       "      <td>Silantro Fil-Mex</td>\n",
       "      <td>4.9</td>\n",
       "    </tr>\n",
       "    <tr>\n",
       "      <th>4</th>\n",
       "      <td>Pensacola</td>\n",
       "      <td>McGuire's Irish Pub &amp; Brewery</td>\n",
       "      <td>4.9</td>\n",
       "    </tr>\n",
       "    <tr>\n",
       "      <th>...</th>\n",
       "      <td>...</td>\n",
       "      <td>...</td>\n",
       "      <td>...</td>\n",
       "    </tr>\n",
       "    <tr>\n",
       "      <th>3911</th>\n",
       "      <td>New Delhi</td>\n",
       "      <td>Tandoori Tadka</td>\n",
       "      <td>0.0</td>\n",
       "    </tr>\n",
       "    <tr>\n",
       "      <th>3912</th>\n",
       "      <td>New Delhi</td>\n",
       "      <td>Pak Afghan Restaurant</td>\n",
       "      <td>0.0</td>\n",
       "    </tr>\n",
       "    <tr>\n",
       "      <th>3913</th>\n",
       "      <td>New Delhi</td>\n",
       "      <td>Chatkara</td>\n",
       "      <td>0.0</td>\n",
       "    </tr>\n",
       "    <tr>\n",
       "      <th>3914</th>\n",
       "      <td>Gurgaon</td>\n",
       "      <td>Oven Aroma</td>\n",
       "      <td>0.0</td>\n",
       "    </tr>\n",
       "    <tr>\n",
       "      <th>3915</th>\n",
       "      <td>New Delhi</td>\n",
       "      <td>Heavens Food Corner</td>\n",
       "      <td>NaN</td>\n",
       "    </tr>\n",
       "  </tbody>\n",
       "</table>\n",
       "<p>3916 rows × 3 columns</p>\n",
       "</div>"
      ],
      "text/plain": [
       "            City                Restaurant Name  Average Rating\n",
       "0         Dalton                   Oakwood Cafe             4.9\n",
       "1      Davenport            Tantra Asian Bistro             4.9\n",
       "2           Agra                Sheroes Hangout             4.9\n",
       "3     Pasig City               Silantro Fil-Mex             4.9\n",
       "4      Pensacola  McGuire's Irish Pub & Brewery             4.9\n",
       "...          ...                            ...             ...\n",
       "3911   New Delhi                 Tandoori Tadka             0.0\n",
       "3912   New Delhi          Pak Afghan Restaurant             0.0\n",
       "3913   New Delhi                       Chatkara             0.0\n",
       "3914     Gurgaon                     Oven Aroma             0.0\n",
       "3915   New Delhi            Heavens Food Corner             NaN\n",
       "\n",
       "[3916 rows x 3 columns]"
      ]
     },
     "execution_count": 36,
     "metadata": {},
     "output_type": "execute_result"
    }
   ],
   "source": [
    "# 2-Calculate the average rating for restaurants in each city.\n",
    "rating=dataset.groupby(['City','Restaurant Name'])['Aggregate rating'].mean().sort_values(ascending=False)\n",
    "avg_rating=rating.reset_index()\n",
    "avg_rating = avg_rating.rename(columns={'Aggregate rating': 'Average Rating'})\n",
    "avg_rating"
   ]
  },
  {
   "cell_type": "markdown",
   "id": "0c65b3d0-78a8-41a4-9d8b-f311e627fc0d",
   "metadata": {},
   "source": [
    "##### 3-Determine the city with the highest average rating.\n"
   ]
  },
  {
   "cell_type": "code",
   "execution_count": 62,
   "id": "2e63c2fc-477a-4933-b644-0422718ff38b",
   "metadata": {},
   "outputs": [
    {
     "name": "stdout",
     "output_type": "stream",
     "text": [
      "\u001b[1;31mHIGHEST AVGERAGE RATING\n",
      "\u001b[0m City\n",
      "Quezon City    4.8\n",
      "Name: Aggregate rating, dtype: float64\n"
     ]
    }
   ],
   "source": [
    "# Determine the city with the highest average rating.\n",
    "\n",
    "city_highest_avg=dataset.groupby('City')['Aggregate rating']\n",
    "print(\"\\033[1;31mHIGHEST AVGERAGE RATING\\n\\033[0m\",city_highest_avg.mean().sort_values(ascending=False).head(1))\n"
   ]
  },
  {
   "cell_type": "markdown",
   "id": "989b48bc-fdfe-45a3-aecc-853112d969a2",
   "metadata": {
    "jp-MarkdownHeadingCollapsed": true
   },
   "source": [
    "#### Task-3: Price Range Distribution\n"
   ]
  },
  {
   "cell_type": "markdown",
   "id": "cc120a11-85c5-49cc-9f92-7d52fe917d5a",
   "metadata": {},
   "source": [
    "##### 1-Create a histogram or bar chart to visualize the distribution of price ranges among the restaurants."
   ]
  },
  {
   "cell_type": "code",
   "execution_count": 65,
   "id": "4b8cf33d-16d3-481b-85d7-4e3c7aa497a8",
   "metadata": {},
   "outputs": [
    {
     "data": {
      "image/png": "[encoded data removed]",
      "text/plain": [
       "<Figure size 1000x800 with 1 Axes>"
      ]
     },
     "metadata": {},
     "output_type": "display_data"
    }
   ],
   "source": [
    "# 1-Create a histogram or bar chart to visualize the distribution of price ranges among the restaurants.x=\n",
    "\n",
    "\n",
    "price_range_counts = dataset['Price range'].value_counts()\n",
    "\n",
    "# Create a bar chart\n",
    "plt.figure(figsize=(10, 8))\n",
    "price_range_counts.plot(kind='bar', color='red')\n",
    "plt.title('Distribution of Price Ranges Among Restaurants')\n",
    "plt.xlabel('Price Range')\n",
    "plt.ylabel('Number of Restaurants')\n",
    "plt.xticks(rotation=0)\n",
    "plt.show()\n",
    "# snsplot(data=dataset,x='Price range',kind='bar',y='Restaurant Name',element='step')\n"
   ]
  },
  {
   "cell_type": "markdown",
   "id": "d9c83dce-c3bd-4eea-9aa3-306e2dcbe05e",
   "metadata": {},
   "source": [
    "##### 2-Calculate the percentage of restaurants in each price range category."
   ]
  },
  {
   "cell_type": "code",
   "execution_count": 75,
   "id": "cf868238-9981-4a55-912e-0197da869b86",
   "metadata": {},
   "outputs": [
    {
     "name": "stdout",
     "output_type": "stream",
     "text": [
      "Percentage of restaurants in each price range category:\n",
      "   Price range  count\n",
      "0          1.0  38.99\n",
      "1          2.0  34.19\n",
      "2          3.0  19.72\n",
      "3          4.0   7.07\n"
     ]
    }
   ],
   "source": [
    "price_range_counts = dataset['Price range'].value_counts()\n",
    "\n",
    "#total number of restaurants\n",
    "total_restaurants = len(dataset)\n",
    "\n",
    "# Step 3: Calculate the percentage of restaurants in each price range\n",
    "price_range_percentages = (price_range_counts / total_restaurants) * 100\n",
    "\n",
    "# Output the result\n",
    "print(\"Percentage of restaurants in each price range category:\")\n",
    "df=round(price_range_percentages,2).reset_index()\n",
    "print(df)"
   ]
  },
  {
   "cell_type": "markdown",
   "id": "5f71fde8-9898-4c29-9d94-a641af4af84e",
   "metadata": {},
   "source": [
    "#### Task-4: Online Delivery\n"
   ]
  },
  {
   "cell_type": "markdown",
   "id": "1357c4d1-8868-4189-8165-72ef668c60f2",
   "metadata": {},
   "source": [
    "##### 1-Determine the percentage of restaurants that offer online delivery.\n",
    "2-Compare the average ratings of restaurants with and without online delivery."
   ]
  },
  {
   "cell_type": "code",
   "execution_count": 80,
   "id": "5662fddd-e531-42db-a986-b5ed9a3cb7e6",
   "metadata": {},
   "outputs": [
    {
     "name": "stdout",
     "output_type": "stream",
     "text": [
      "Percentage of restaurants offering online delivery: 26.37%\n",
      "Average rating for restaurants with online delivery: 3.38\n",
      "Average rating for restaurants without online delivery: 2.84\n"
     ]
    }
   ],
   "source": [
    "# Calculate the percentage of restaurants \n",
    "total_restaurants = len(dataset)\n",
    "restaurants_with_delivery = len(dataset[dataset['Has Online delivery'] ==\"Yes\"])\n",
    "percentage_with_delivery = (restaurants_with_delivery / total_restaurants) * 100\n",
    "\n",
    "print(f'Percentage of restaurants offering online delivery: {percentage_with_delivery:.2f}%')\n",
    "\n",
    "# Compare the avg ratings of restaurants with and without online delivery\n",
    "avg_rating_with_delivery = dataset[dataset['Has Online delivery'] == \"Yes\"]['Aggregate rating'].mean()\n",
    "avg_rating_without_delivery = dataset[dataset['Has Online delivery'] == \"No\"]['Aggregate rating'].mean()\n",
    "\n",
    "print(f'Average rating for restaurants with online delivery: {avg_rating_with_delivery:.2f}')\n",
    "print(f'Average rating for restaurants without online delivery: {avg_rating_without_delivery:.2f}')"
   ]
  }
 ],
 "metadata": {
  "kernelspec": {
   "display_name": "Python 3 (ipykernel)",
   "language": "python",
   "name": "python3"
  },
  "language_info": {
   "codemirror_mode": {
    "name": "ipython",
    "version": 3
   },
   "file_extension": ".py",
   "mimetype": "text/x-python",
   "name": "python",
   "nbconvert_exporter": "python",
   "pygments_lexer": "ipython3",
   "version": "3.11.7"
  }
 },
 "nbformat": 4,
 "nbformat_minor": 5
}
